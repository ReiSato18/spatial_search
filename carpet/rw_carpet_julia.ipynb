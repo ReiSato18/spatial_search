{
 "cells": [
  {
   "cell_type": "code",
   "execution_count": 1,
   "metadata": {},
   "outputs": [
    {
     "data": {
      "text/plain": [
       "27×27 Array{Int8,2}:\n",
       " 1  1  1  1  1  1  1  1  1  1  1  1  1  …  1  1  1  1  1  1  1  1  1  1  1  1\n",
       " 1  0  1  1  0  1  1  0  1  1  0  1  1     1  0  1  1  0  1  1  0  1  1  0  1\n",
       " 1  1  1  1  1  1  1  1  1  1  1  1  1     1  1  1  1  1  1  1  1  1  1  1  1\n",
       " 1  1  1  0  0  0  1  1  1  1  1  1  0     1  1  1  1  1  1  0  0  0  1  1  1\n",
       " 1  0  1  0  0  0  1  0  1  1  0  1  0     1  0  1  1  0  1  0  0  0  1  0  1\n",
       " 1  1  1  0  0  0  1  1  1  1  1  1  0  …  1  1  1  1  1  1  0  0  0  1  1  1\n",
       " 1  1  1  1  1  1  1  1  1  1  1  1  1     1  1  1  1  1  1  1  1  1  1  1  1\n",
       " 1  0  1  1  0  1  1  0  1  1  0  1  1     1  0  1  1  0  1  1  0  1  1  0  1\n",
       " 1  1  1  1  1  1  1  1  1  1  1  1  1     1  1  1  1  1  1  1  1  1  1  1  1\n",
       " 1  1  1  1  1  1  1  1  1  0  0  0  0     0  0  0  1  1  1  1  1  1  1  1  1\n",
       " 1  0  1  1  0  1  1  0  1  0  0  0  0  …  0  0  0  1  0  1  1  0  1  1  0  1\n",
       " 1  1  1  1  1  1  1  1  1  0  0  0  0     0  0  0  1  1  1  1  1  1  1  1  1\n",
       " 1  1  1  0  0  0  1  1  1  0  0  0  0     0  0  0  1  1  1  0  0  0  1  1  1\n",
       " ⋮              ⋮              ⋮        ⋱  ⋮              ⋮              ⋮   \n",
       " 1  1  1  1  1  1  1  1  1  0  0  0  0  …  0  0  0  1  1  1  1  1  1  1  1  1\n",
       " 1  0  1  1  0  1  1  0  1  0  0  0  0     0  0  0  1  0  1  1  0  1  1  0  1\n",
       " 1  1  1  1  1  1  1  1  1  0  0  0  0     0  0  0  1  1  1  1  1  1  1  1  1\n",
       " 1  1  1  1  1  1  1  1  1  1  1  1  1     1  1  1  1  1  1  1  1  1  1  1  1\n",
       " 1  0  1  1  0  1  1  0  1  1  0  1  1     1  0  1  1  0  1  1  0  1  1  0  1\n",
       " 1  1  1  1  1  1  1  1  1  1  1  1  1  …  1  1  1  1  1  1  1  1  1  1  1  1\n",
       " 1  1  1  0  0  0  1  1  1  1  1  1  0     1  1  1  1  1  1  0  0  0  1  1  1\n",
       " 1  0  1  0  0  0  1  0  1  1  0  1  0     1  0  1  1  0  1  0  0  0  1  0  1\n",
       " 1  1  1  0  0  0  1  1  1  1  1  1  0     1  1  1  1  1  1  0  0  0  1  1  1\n",
       " 1  1  1  1  1  1  1  1  1  1  1  1  1     1  1  1  1  1  1  1  1  1  1  1  1\n",
       " 1  0  1  1  0  1  1  0  1  1  0  1  1  …  1  0  1  1  0  1  1  0  1  1  0  1\n",
       " 1  1  1  1  1  1  1  1  1  1  1  1  1     1  1  1  1  1  1  1  1  1  1  1  1"
      ]
     },
     "execution_count": 1,
     "metadata": {},
     "output_type": "execute_result"
    }
   ],
   "source": [
    "#SC(1,3)\n",
    "stage1 = Array{Int8,2}([1 1 1;1 0 1;1 1 1])\n",
    "#stage2 one_side=9\n",
    "empty2 = zeros(Int8,3,3)\n",
    "line2_1= hcat(stage1,stage1,stage1)\n",
    "line2_2= hcat(stage1,empty2,stage1)\n",
    "stage2 = vcat(line2_1,line2_2,line2_1)\n",
    "#stage3 one_side=27\n",
    "empty3 = zeros(Int8,9,9)\n",
    "line3_1= hcat(stage2,stage2,stage2)\n",
    "line3_2= hcat(stage2,empty3,stage2)\n",
    "stage3 = vcat(line3_1,line3_2,line3_1)\n",
    "#stage4 one_side=81\n",
    "empty4 = zeros(Int8,27,27)\n",
    "line4_1= hcat(stage3,stage3,stage3)\n",
    "line4_2= hcat(stage3,empty4,stage3)\n",
    "stage4 = vcat(line4_1,line4_2,line4_1)\n",
    "#stage5 one_side=243\n",
    "empty5 = zeros(Int8,81,81)\n",
    "line5_1= hcat(stage4,stage4,stage4)\n",
    "line5_2= hcat(stage4,empty5,stage4)\n",
    "stage5 = vcat(line5_1,line5_2,line5_1)\n",
    "#stage6\n",
    "empty6 = zeros(Int8,243,243)\n",
    "line6_1= hcat(stage5,stage5,stage5)\n",
    "line6_2= hcat(stage5,empty6,stage5)\n",
    "stage6 = vcat(line6_1,line6_2,line6_1)\n",
    "#stage7\n",
    "empty7 = zeros(Int8,729,729)\n",
    "line7_1= hcat(stage6,stage6,stage6)\n",
    "line7_2= hcat(stage6,empty7,stage6)\n",
    "stage7 = vcat(line7_1,line7_2,line7_1)\n",
    "#stage8\n",
    "empty8 = zeros(Int8,729*3,729*3)\n",
    "line8_1= hcat(stage7,stage7,stage7)\n",
    "line8_2= hcat(stage7,empty8,stage7)\n",
    "stage8 = vcat(line8_1,line8_2,line8_1)\n",
    "#stage9\n",
    "empty9 = zeros(Int8,729*9,729*9)\n",
    "line9_1= hcat(stage8,stage8,stage8)\n",
    "line9_2= hcat(stage8,empty9,stage8)\n",
    "stage9 = vcat(line9_1,line9_2,line9_1)\n",
    "#stage7\n",
    "empty10 = zeros(Int8,729*27,729*27)\n",
    "line10_1= hcat(stage9,stage9,stage9)\n",
    "line10_2= hcat(stage9,empty10,stage9)\n",
    "stage10 = vcat(line10_1,line10_2,line10_1)\n",
    "######\n",
    "stage = copy(stage3)"
   ]
  },
  {
   "cell_type": "code",
   "execution_count": 1,
   "metadata": {
    "scrolled": true
   },
   "outputs": [
    {
     "data": {
      "text/plain": [
       "16384×16384 Array{Int8,2}:\n",
       " 1  1  1  1  1  1  1  1  1  1  1  1  1  …  1  1  1  1  1  1  1  1  1  1  1  1\n",
       " 1  0  0  1  1  0  0  1  1  0  0  1  1     1  0  0  1  1  0  0  1  1  0  0  1\n",
       " 1  0  0  1  1  0  0  1  1  0  0  1  1     1  0  0  1  1  0  0  1  1  0  0  1\n",
       " 1  1  1  1  1  1  1  1  1  1  1  1  1     1  1  1  1  1  1  1  1  1  1  1  1\n",
       " 1  1  1  1  0  0  0  0  0  0  0  0  1     0  0  0  0  0  0  0  0  1  1  1  1\n",
       " 1  0  0  1  0  0  0  0  0  0  0  0  1  …  0  0  0  0  0  0  0  0  1  0  0  1\n",
       " 1  0  0  1  0  0  0  0  0  0  0  0  1     0  0  0  0  0  0  0  0  1  0  0  1\n",
       " 1  1  1  1  0  0  0  0  0  0  0  0  1     0  0  0  0  0  0  0  0  1  1  1  1\n",
       " 1  1  1  1  0  0  0  0  0  0  0  0  1     0  0  0  0  0  0  0  0  1  1  1  1\n",
       " 1  0  0  1  0  0  0  0  0  0  0  0  1     0  0  0  0  0  0  0  0  1  0  0  1\n",
       " 1  0  0  1  0  0  0  0  0  0  0  0  1  …  0  0  0  0  0  0  0  0  1  0  0  1\n",
       " 1  1  1  1  0  0  0  0  0  0  0  0  1     0  0  0  0  0  0  0  0  1  1  1  1\n",
       " 1  1  1  1  1  1  1  1  1  1  1  1  1     1  1  1  1  1  1  1  1  1  1  1  1\n",
       " ⋮              ⋮              ⋮        ⋱           ⋮              ⋮         \n",
       " 1  1  1  1  0  0  0  0  0  0  0  0  1     0  0  0  0  0  0  0  0  1  1  1  1\n",
       " 1  0  0  1  0  0  0  0  0  0  0  0  1     0  0  0  0  0  0  0  0  1  0  0  1\n",
       " 1  0  0  1  0  0  0  0  0  0  0  0  1     0  0  0  0  0  0  0  0  1  0  0  1\n",
       " 1  1  1  1  0  0  0  0  0  0  0  0  1  …  0  0  0  0  0  0  0  0  1  1  1  1\n",
       " 1  1  1  1  0  0  0  0  0  0  0  0  1     0  0  0  0  0  0  0  0  1  1  1  1\n",
       " 1  0  0  1  0  0  0  0  0  0  0  0  1     0  0  0  0  0  0  0  0  1  0  0  1\n",
       " 1  0  0  1  0  0  0  0  0  0  0  0  1     0  0  0  0  0  0  0  0  1  0  0  1\n",
       " 1  1  1  1  0  0  0  0  0  0  0  0  1     0  0  0  0  0  0  0  0  1  1  1  1\n",
       " 1  1  1  1  1  1  1  1  1  1  1  1  1  …  1  1  1  1  1  1  1  1  1  1  1  1\n",
       " 1  0  0  1  1  0  0  1  1  0  0  1  1     1  0  0  1  1  0  0  1  1  0  0  1\n",
       " 1  0  0  1  1  0  0  1  1  0  0  1  1     1  0  0  1  1  0  0  1  1  0  0  1\n",
       " 1  1  1  1  1  1  1  1  1  1  1  1  1     1  1  1  1  1  1  1  1  1  1  1  1"
      ]
     },
     "execution_count": 1,
     "metadata": {},
     "output_type": "execute_result"
    }
   ],
   "source": [
    "#SC(4,2)\n",
    "stage1 = Array{Int8,2}([1 1 1 1;1 0 0 1;1 0 0 1; 1 1 1 1])\n",
    "#stage2 one_side=9\n",
    "empty2 = zeros(Int8,4,4)\n",
    "line2_1= hcat(stage1,stage1,stage1,stage1)\n",
    "line2_2= hcat(stage1,empty2,empty2,stage1)\n",
    "stage2 = vcat(line2_1,line2_2,line2_2,line2_1)#16\n",
    "#stage3\n",
    "empty3 = zeros(Int8,16,16)\n",
    "line3_1= hcat(stage2,stage2,stage2,stage2)\n",
    "line3_2= hcat(stage2,empty3,empty3,stage2)\n",
    "stage3 = vcat(line3_1,line3_2,line3_2,line3_1)#64\n",
    "#stage4\n",
    "empty4 = zeros(Int8,64,64)\n",
    "line4_1= hcat(stage3,stage3,stage3,stage3)\n",
    "line4_2= hcat(stage3,empty4,empty4,stage3)\n",
    "stage4 = vcat(line4_1,line4_2,line4_2,line4_1)#256\n",
    "#stage5\n",
    "empty5 = zeros(Int8,256,256)\n",
    "line5_1= hcat(stage4,stage4,stage4,stage4)\n",
    "line5_2= hcat(stage4,empty5,empty5,stage4)\n",
    "stage5 = vcat(line5_1,line5_2,line5_2,line5_1)#1024\n",
    "#stage6\n",
    "empty6 = zeros(Int8,1024,1024)\n",
    "line6_1= hcat(stage5,stage5,stage5,stage5)\n",
    "line6_2= hcat(stage5,empty6,empty6,stage5)\n",
    "stage6 = vcat(line6_1,line6_2,line6_2,line6_1)#4096\n",
    "#stage7\n",
    "empty7 = zeros(Int8,4096,4096)\n",
    "line7_1= hcat(stage6,stage6,stage6,stage6)\n",
    "line7_2= hcat(stage6,empty7,empty7,stage6)\n",
    "stage7 = vcat(line7_1,line7_2,line7_2,line7_1)\n",
    "###\n",
    "#empty8 = zeros(Int8,16384,16384)\n",
    "#line8_1= hcat(stage7,stage7,stage7,stage7)\n",
    "#line8_2= hcat(stage7,empty8,empty8,stage7)\n",
    "#stage8 = vcat(line8_1,line8_2,line8_2,line8_1)\n",
    "############\n",
    "stage2 = 0\n",
    "stage3 = 0\n",
    "stage4 = 0 \n",
    "stage5 = 0\n",
    "stage6 = 0\n",
    "#stage7 = 0\n",
    "stage = copy(stage7)"
   ]
  },
  {
   "cell_type": "code",
   "execution_count": 1,
   "metadata": {
    "scrolled": true
   },
   "outputs": [
    {
     "data": {
      "text/plain": [
       "15625×15625 Array{Int8,2}:\n",
       " 1  1  1  1  1  1  1  1  1  1  1  1  1  …  1  1  1  1  1  1  1  1  1  1  1  1\n",
       " 1  0  0  0  1  1  0  0  0  1  1  0  0     0  1  1  0  0  0  1  1  0  0  0  1\n",
       " 1  0  0  0  1  1  0  0  0  1  1  0  0     0  1  1  0  0  0  1  1  0  0  0  1\n",
       " 1  0  0  0  1  1  0  0  0  1  1  0  0     0  1  1  0  0  0  1  1  0  0  0  1\n",
       " 1  1  1  1  1  1  1  1  1  1  1  1  1     1  1  1  1  1  1  1  1  1  1  1  1\n",
       " 1  1  1  1  1  0  0  0  0  0  0  0  0  …  0  0  0  0  0  0  0  1  1  1  1  1\n",
       " 1  0  0  0  1  0  0  0  0  0  0  0  0     0  0  0  0  0  0  0  1  0  0  0  1\n",
       " 1  0  0  0  1  0  0  0  0  0  0  0  0     0  0  0  0  0  0  0  1  0  0  0  1\n",
       " 1  0  0  0  1  0  0  0  0  0  0  0  0     0  0  0  0  0  0  0  1  0  0  0  1\n",
       " 1  1  1  1  1  0  0  0  0  0  0  0  0     0  0  0  0  0  0  0  1  1  1  1  1\n",
       " 1  1  1  1  1  0  0  0  0  0  0  0  0  …  0  0  0  0  0  0  0  1  1  1  1  1\n",
       " 1  0  0  0  1  0  0  0  0  0  0  0  0     0  0  0  0  0  0  0  1  0  0  0  1\n",
       " 1  0  0  0  1  0  0  0  0  0  0  0  0     0  0  0  0  0  0  0  1  0  0  0  1\n",
       " ⋮              ⋮              ⋮        ⋱        ⋮              ⋮            \n",
       " 1  0  0  0  1  0  0  0  0  0  0  0  0     0  0  0  0  0  0  0  1  0  0  0  1\n",
       " 1  1  1  1  1  0  0  0  0  0  0  0  0     0  0  0  0  0  0  0  1  1  1  1  1\n",
       " 1  1  1  1  1  0  0  0  0  0  0  0  0  …  0  0  0  0  0  0  0  1  1  1  1  1\n",
       " 1  0  0  0  1  0  0  0  0  0  0  0  0     0  0  0  0  0  0  0  1  0  0  0  1\n",
       " 1  0  0  0  1  0  0  0  0  0  0  0  0     0  0  0  0  0  0  0  1  0  0  0  1\n",
       " 1  0  0  0  1  0  0  0  0  0  0  0  0     0  0  0  0  0  0  0  1  0  0  0  1\n",
       " 1  1  1  1  1  0  0  0  0  0  0  0  0     0  0  0  0  0  0  0  1  1  1  1  1\n",
       " 1  1  1  1  1  1  1  1  1  1  1  1  1  …  1  1  1  1  1  1  1  1  1  1  1  1\n",
       " 1  0  0  0  1  1  0  0  0  1  1  0  0     0  1  1  0  0  0  1  1  0  0  0  1\n",
       " 1  0  0  0  1  1  0  0  0  1  1  0  0     0  1  1  0  0  0  1  1  0  0  0  1\n",
       " 1  0  0  0  1  1  0  0  0  1  1  0  0     0  1  1  0  0  0  1  1  0  0  0  1\n",
       " 1  1  1  1  1  1  1  1  1  1  1  1  1     1  1  1  1  1  1  1  1  1  1  1  1"
      ]
     },
     "execution_count": 1,
     "metadata": {},
     "output_type": "execute_result"
    }
   ],
   "source": [
    "#SC(5,3)\n",
    "stage1 = Array{Int8,2}([1 1 1 1 1;1 0 0 0 1;1 0 0 0 1;1 0 0 0 1; 1 1 1 1 1])\n",
    "#stage2 \n",
    "empty2 = zeros(Int8,5,5)\n",
    "line2_1= hcat(stage1,stage1,stage1,stage1,stage1)\n",
    "line2_2= hcat(stage1,empty2,empty2,empty2,stage1)\n",
    "stage2 = vcat(line2_1,line2_2,line2_2,line2_2,line2_1)\n",
    "#stage3 \n",
    "empty3 = zeros(Int8,25,25)\n",
    "line3_1= hcat(stage2,stage2,stage2,stage2,stage2)\n",
    "line3_2= hcat(stage2,empty3,empty3,empty3,stage2)\n",
    "stage3 = vcat(line3_1,line3_2,line3_2,line3_2,line3_1)\n",
    "#stage4\n",
    "empty4 = zeros(Int8,125,125)\n",
    "line4_1= hcat(stage3,stage3,stage3,stage3,stage3)\n",
    "line4_2= hcat(stage3,empty4,empty4,empty4,stage3)\n",
    "stage4 = vcat(line4_1,line4_2,line4_2,line4_2,line4_1)\n",
    "#stage5\n",
    "empty5 = zeros(Int8,625,625)\n",
    "line5_1= hcat(stage4,stage4,stage4,stage4,stage4)\n",
    "line5_2= hcat(stage4,empty5,empty5,empty5,stage4)\n",
    "stage5 = vcat(line5_1,line5_2,line5_2,line5_2,line5_1)\n",
    "#stage6\n",
    "empty6 = zeros(Int8,3125,3125)\n",
    "line6_1= hcat(stage5,stage5,stage5,stage5,stage5)\n",
    "line6_2= hcat(stage5,empty6,empty6,empty6,stage5)\n",
    "stage6 = vcat(line6_1,line6_2,line6_2,line6_2,line6_1)\n",
    "#stage7\n",
    "#empty7 = zeros(Int8,3125*5,3125*5)\n",
    "#line7_1= hcat(stage6,stage6,stage6,stage6,stage6)\n",
    "#line7_2= hcat(stage6,empty7,empty7,empty7,stage6)\n",
    "#stage7 = vcat(line7_1,line7_2,line7_2,line7_2,line7_1)\n",
    "########\n",
    "stage2 = 0\n",
    "stage3 = 0\n",
    "stage4 = 0 \n",
    "stage5 = 0\n",
    "#stage6 = 0\n",
    "stage = copy(stage6)"
   ]
  },
  {
   "cell_type": "code",
   "execution_count": 30,
   "metadata": {},
   "outputs": [
    {
     "data": {
      "text/plain": [
       "7776×7776 Array{Int8,2}:\n",
       " 1  1  1  1  1  1  1  1  1  1  1  1  1  …  1  1  1  1  1  1  1  1  1  1  1  1\n",
       " 1  0  0  0  0  1  1  0  0  0  0  1  1     1  0  0  0  0  1  1  0  0  0  0  1\n",
       " 1  0  0  0  0  1  1  0  0  0  0  1  1     1  0  0  0  0  1  1  0  0  0  0  1\n",
       " 1  0  0  0  0  1  1  0  0  0  0  1  1     1  0  0  0  0  1  1  0  0  0  0  1\n",
       " 1  0  0  0  0  1  1  0  0  0  0  1  1     1  0  0  0  0  1  1  0  0  0  0  1\n",
       " 1  1  1  1  1  1  1  1  1  1  1  1  1  …  1  1  1  1  1  1  1  1  1  1  1  1\n",
       " 1  1  1  1  1  1  0  0  0  0  0  0  0     0  0  0  0  0  0  1  1  1  1  1  1\n",
       " 1  0  0  0  0  1  0  0  0  0  0  0  0     0  0  0  0  0  0  1  0  0  0  0  1\n",
       " 1  0  0  0  0  1  0  0  0  0  0  0  0     0  0  0  0  0  0  1  0  0  0  0  1\n",
       " 1  0  0  0  0  1  0  0  0  0  0  0  0     0  0  0  0  0  0  1  0  0  0  0  1\n",
       " 1  0  0  0  0  1  0  0  0  0  0  0  0  …  0  0  0  0  0  0  1  0  0  0  0  1\n",
       " 1  1  1  1  1  1  0  0  0  0  0  0  0     0  0  0  0  0  0  1  1  1  1  1  1\n",
       " 1  1  1  1  1  1  0  0  0  0  0  0  0     0  0  0  0  0  0  1  1  1  1  1  1\n",
       " ⋮              ⋮              ⋮        ⋱     ⋮              ⋮              ⋮\n",
       " 1  1  1  1  1  1  0  0  0  0  0  0  0     0  0  0  0  0  0  1  1  1  1  1  1\n",
       " 1  0  0  0  0  1  0  0  0  0  0  0  0  …  0  0  0  0  0  0  1  0  0  0  0  1\n",
       " 1  0  0  0  0  1  0  0  0  0  0  0  0     0  0  0  0  0  0  1  0  0  0  0  1\n",
       " 1  0  0  0  0  1  0  0  0  0  0  0  0     0  0  0  0  0  0  1  0  0  0  0  1\n",
       " 1  0  0  0  0  1  0  0  0  0  0  0  0     0  0  0  0  0  0  1  0  0  0  0  1\n",
       " 1  1  1  1  1  1  0  0  0  0  0  0  0     0  0  0  0  0  0  1  1  1  1  1  1\n",
       " 1  1  1  1  1  1  1  1  1  1  1  1  1  …  1  1  1  1  1  1  1  1  1  1  1  1\n",
       " 1  0  0  0  0  1  1  0  0  0  0  1  1     1  0  0  0  0  1  1  0  0  0  0  1\n",
       " 1  0  0  0  0  1  1  0  0  0  0  1  1     1  0  0  0  0  1  1  0  0  0  0  1\n",
       " 1  0  0  0  0  1  1  0  0  0  0  1  1     1  0  0  0  0  1  1  0  0  0  0  1\n",
       " 1  0  0  0  0  1  1  0  0  0  0  1  1     1  0  0  0  0  1  1  0  0  0  0  1\n",
       " 1  1  1  1  1  1  1  1  1  1  1  1  1  …  1  1  1  1  1  1  1  1  1  1  1  1"
      ]
     },
     "execution_count": 30,
     "metadata": {},
     "output_type": "execute_result"
    }
   ],
   "source": [
    "#SC(6,4)\n",
    "stage1 = Array{Int8,2}([1 1 1 1 1 1;1 0 0 0 0 1;1 0 0 0 0 1;1 0 0 0 0 1;1 0 0 0 0 1;1 1 1 1 1 1])\n",
    "#stage2 \n",
    "empty2 = zeros(Int8,6,6)\n",
    "line2_1= hcat(stage1,stage1,stage1,stage1,stage1,stage1)\n",
    "line2_2= hcat(stage1,empty2,empty2,empty2,empty2,stage1)\n",
    "stage2 = vcat(line2_1,line2_2,line2_2,line2_2,line2_2,line2_1)\n",
    "#stage3\n",
    "empty3 = zeros(Int8,36,36)\n",
    "line3_1= hcat(stage2,stage2,stage2,stage2,stage2,stage2)\n",
    "line3_2= hcat(stage2,empty3,empty3,empty3,empty3,stage2)\n",
    "stage3 = vcat(line3_1,line3_2,line3_2,line3_2,line3_2,line3_1)\n",
    "#stage4\n",
    "empty4 = zeros(Int8,216,216)\n",
    "line4_1= hcat(stage3,stage3,stage3,stage3,stage3,stage3)\n",
    "line4_2= hcat(stage3,empty4,empty4,empty4,empty4,stage3)\n",
    "stage4 = vcat(line4_1,line4_2,line4_2,line4_2,line4_2,line4_1)\n",
    "#stage5\n",
    "empty5 = zeros(Int8,1296,1296)\n",
    "line5_1= hcat(stage4,stage4,stage4,stage4,stage4,stage4)\n",
    "line5_2= hcat(stage4,empty5,empty5,empty5,empty5,stage4)\n",
    "stage5 = vcat(line5_1,line5_2,line5_2,line5_2,line5_2,line5_1)\n",
    "#stage6\n",
    "#empty6 = zeros(Int8,7776,7776)\n",
    "#line6_1= hcat(stage5,stage5,stage5,stage5,stage5,stage5)\n",
    "#line6_2= hcat(stage5,empty6,empty6,empty6,empty6,stage5)\n",
    "#stage6 = vcat(line6_1,line6_2,line6_2,line6_2,line6_2,line6_1)\n",
    "stage2 = 0\n",
    "stage3 = 0\n",
    "stage4 = 0 \n",
    "#stage5 = 0\n",
    "stage = copy(stage5)"
   ]
  },
  {
   "cell_type": "code",
   "execution_count": 2,
   "metadata": {},
   "outputs": [
    {
     "data": {
      "text/plain": [
       "y_koteitan (generic function with 1 method)"
      ]
     },
     "execution_count": 2,
     "metadata": {},
     "output_type": "execute_result"
    }
   ],
   "source": [
    "function x_koteitan(x,n)\n",
    "    if n >= x >= 1.0 \n",
    "        return x\n",
    "    elseif x < 1.0\n",
    "        return x = 1\n",
    "    elseif x > n\n",
    "        return x = n\n",
    "    end\n",
    "end\n",
    "\n",
    "function y_koteitan(y,n)\n",
    "    if n >= y >= 1.0 \n",
    "        return y\n",
    "    elseif y < 1.0\n",
    "        return y = 1\n",
    "    elseif y > n\n",
    "        return y = n\n",
    "    end\n",
    "end\n",
    "#y_koteitan(3,3)"
   ]
  },
  {
   "cell_type": "code",
   "execution_count": 3,
   "metadata": {},
   "outputs": [
    {
     "data": {
      "text/plain": [
       "random_walk (generic function with 1 method)"
      ]
     },
     "execution_count": 3,
     "metadata": {},
     "output_type": "execute_result"
    }
   ],
   "source": [
    "#メイン計算\n",
    "function random_walk(array)\n",
    "    #s=5;stage = 6\n",
    "    n = 5^6\n",
    "    #t+1秒の配列を現在の配列とする\n",
    "    present = zeros(Int64,1,2)\n",
    "    present[1,:] = copy(array)\n",
    "    #x,y方向の変位を収納する箱\n",
    "    delta   = zeros(Int64,1,2)\n",
    "    #x,y,z方向をランダムに指定するため\n",
    "    delta_index = rand(UnitRange{Int8}(1:2))#1ならｘ、２ならy\n",
    "    #変位を収納する\n",
    "    if rand(UnitRange{Int8}(0:1)) == 0\n",
    "        delta[delta_index] = 1\n",
    "    else\n",
    "        delta[delta_index] = -1\n",
    "    end\n",
    "    \n",
    "    #t+1秒後の座標\n",
    "    next_present = present + delta\n",
    "    \n",
    "    #メンガーのスポンジの座標に変換、且つ周期境界条件\n",
    "    #x = ((next_present[1]%n)+n-1)%n +1\n",
    "    #y = ((next_present[2]%n)+n-1)%n +1\n",
    "    x = x_koteitan(next_present[1],n)\n",
    "    y = y_koteitan(next_present[2],n)\n",
    "    #固定端条件\n",
    "    if stage[x,y]==1\n",
    "        final_present=[x y]\n",
    "    else\n",
    "        final_present = copy(present)\n",
    "    end\n",
    "    \n",
    "    return final_present\n",
    "end"
   ]
  },
  {
   "cell_type": "code",
   "execution_count": null,
   "metadata": {},
   "outputs": [],
   "source": []
  },
  {
   "cell_type": "code",
   "execution_count": 4,
   "metadata": {},
   "outputs": [
    {
     "data": {
      "text/plain": [
       "iter (generic function with 1 method)"
      ]
     },
     "execution_count": 4,
     "metadata": {},
     "output_type": "execute_result"
    }
   ],
   "source": [
    "using ProgressMeter\n",
    "function iter( time, loop)\n",
    "    stage = 6\n",
    "    mark = 5^(stage-1)\n",
    "    count_0 = 0\n",
    "    count_1 = 0\n",
    "    count_2 = 0\n",
    "    count_3 = 0\n",
    "    count_4 = 0\n",
    "    count_5 = 0\n",
    "    count_6 = 0\n",
    "    count_7 = 0\n",
    "    count_8 = 0\n",
    "    p = Progress(loop)\n",
    "    array = zeros(Int64,1,2)\n",
    "    for i in 1:loop\n",
    "        array = [mark mark]\n",
    "        for t in 0:time\n",
    "            if t == 0\n",
    "                array = [mark mark]\n",
    "            else\n",
    "                array = copy(random_walk(array)) \n",
    "            end\n",
    "            #println(t,array)\n",
    "            if t == 4 && array==[mark mark]\n",
    "                count_0 += 1\n",
    "            elseif t == 4^2 && array==[mark mark]\n",
    "                count_1 += 1\n",
    "            elseif t == 4^3 && array==[mark mark]\n",
    "                count_2 += 1\n",
    "            elseif t == 4^4 && array==[mark mark]\n",
    "                count_3 += 1\n",
    "            elseif t == 4^5 && array==[mark mark]\n",
    "                count_4 += 1\n",
    "            elseif t == 4^6 && array==[mark mark]\n",
    "                count_5 += 1\n",
    "            elseif t == 4^7 && array==[mark mark]\n",
    "                count_6 += 1\n",
    "            elseif t == 4^8 && array==[mark mark]\n",
    "                count_7 += 1\n",
    "            #elseif t == 4^9 && array==[mark mark]\n",
    "            #    count_8 += 1 \n",
    "            end\n",
    "            #println(array)\n",
    "            \n",
    "            \n",
    "            \n",
    "        end\n",
    "        next!(p)\n",
    "    end\n",
    "    println(\"stage6_5_3\")\n",
    "    println(\"t=4:\", count_0,\"\\n\",\"t=4**2:\",count_1,\"\\n\",\"t=4**3:\",count_2,\"\\n\",\"t=4**4:\",count_3)\n",
    "    println(\"t=4**5:\",count_4,\"\\n\",\"t=4**6:\",count_5,\"\\n\",\"t=4**7:\",count_6,\"\\n\",\"t=4**8:\",count_7)\n",
    "    println(\"t=4**9:\", count_8 )\n",
    "    #println(\"t=6:\",count_0,\"\\n\",\"t=6**2:\",count_1,\"\\n\",\"t=6**3:\",count_2,\"\\n\",\"t=6**4:\",count_3)\n",
    "    #println(\"t=6**5:\",count_4,\"\\n\",\"t=6**6:\",count_5,\"\\n\",\"t=6**7:\",count_6)#,\"\\n\",\"t=6**8:\",count_7)\n",
    "    #println(\"t=4**9:\",count_8)\n",
    "end"
   ]
  },
  {
   "cell_type": "code",
   "execution_count": null,
   "metadata": {},
   "outputs": [
    {
     "name": "stderr",
     "output_type": "stream",
     "text": [
      "\u001b[32mProgress:   5%|██                                       |  ETA: 0:40:44\u001b[39m"
     ]
    }
   ],
   "source": [
    "iter(4^8, 10000)"
   ]
  },
  {
   "cell_type": "code",
   "execution_count": 7,
   "metadata": {
    "scrolled": true
   },
   "outputs": [
    {
     "data": {
      "text/plain": [
       "prob (generic function with 1 method)"
      ]
     },
     "execution_count": 7,
     "metadata": {},
     "output_type": "execute_result"
    }
   ],
   "source": [
    "n=27\n",
    "function prob()\n",
    "    p = zeros(Float64,n,n)\n",
    "    for x=1:n, y=1:n\n",
    "        if stage[x,y] == 1\n",
    "            p[x,y] = 0.2\n",
    "        else\n",
    "            continue\n",
    "        end\n",
    "    end\n",
    "    return p\n",
    "end"
   ]
  },
  {
   "cell_type": "code",
   "execution_count": null,
   "metadata": {},
   "outputs": [],
   "source": []
  },
  {
   "cell_type": "code",
   "execution_count": 17,
   "metadata": {},
   "outputs": [
    {
     "name": "stderr",
     "output_type": "stream",
     "text": [
      "┌ Info: Saved animation to \n",
      "│   fn = C:\\Users\\reisa\\tmp.gif\n",
      "└ @ Plots C:\\JuliaPkg\\packages\\Plots\\y6yik\\src\\animation.jl:90\n"
     ]
    },
    {
     "data": {
      "text/html": [
       "<img src=\"tmp.gif?0.6412956526652853>\" />"
      ],
      "text/plain": [
       "Plots.AnimatedGif(\"C:\\\\Users\\\\reisa\\\\tmp.gif\")"
      ]
     },
     "execution_count": 17,
     "metadata": {},
     "output_type": "execute_result"
    }
   ],
   "source": [
    "#For plot\n",
    "using ProgressMeter\n",
    "using LinearAlgebra\n",
    "using Plots\n",
    "gr()\n",
    "function iter(time)\n",
    "    array = ones(Int64,1,2)\n",
    "    anim = @animate for t in 0:time\n",
    "        p = copy(prob())\n",
    "        if t == 0\n",
    "            array = ones(Int64,1,2)\n",
    "        else\n",
    "            array = copy(random_walk(array)) \n",
    "        end\n",
    "\n",
    "        #println(array[1])#原点に戻ったら色をつける\n",
    "        if array==[1 1]\n",
    "            p[1,1]=0.5\n",
    "        else\n",
    "            p[array[1],array[2]]=1\n",
    "        end\n",
    "        \n",
    "        for x in 1:n, y in 1:n\n",
    "            if p[x,y]==0\n",
    "                p[x,y]= -0.05\n",
    "            else\n",
    "                continue\n",
    "            end\n",
    "        end\n",
    "        heatmap(p,aspect_ratio=1,cbar=false,cbar_lims=(-0.05,1))#,dpi=300)\n",
    "    end\n",
    "    return gif(anim,fps=20)\n",
    "end\n",
    "iter(300)"
   ]
  },
  {
   "cell_type": "code",
   "execution_count": null,
   "metadata": {},
   "outputs": [],
   "source": []
  },
  {
   "cell_type": "code",
   "execution_count": 8,
   "metadata": {},
   "outputs": [
    {
     "data": {
      "text/plain": [
       "1×2 Array{Int64,2}:\n",
       " 16384  16384"
      ]
     },
     "execution_count": 8,
     "metadata": {},
     "output_type": "execute_result"
    }
   ],
   "source": [
    "mark = 4^(8-1)\n",
    "array = zeros(Int64,1,2)\n",
    "array = [mark mark]"
   ]
  },
  {
   "cell_type": "code",
   "execution_count": null,
   "metadata": {},
   "outputs": [],
   "source": []
  }
 ],
 "metadata": {
  "@webio": {
   "lastCommId": null,
   "lastKernelId": null
  },
  "kernelspec": {
   "display_name": "Julia 1.0.2",
   "language": "julia",
   "name": "julia-1.0"
  },
  "language_info": {
   "file_extension": ".jl",
   "mimetype": "application/julia",
   "name": "julia",
   "version": "1.0.2"
  }
 },
 "nbformat": 4,
 "nbformat_minor": 2
}
